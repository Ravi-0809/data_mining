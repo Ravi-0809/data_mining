{
 "cells": [
  {
   "cell_type": "markdown",
   "metadata": {},
   "source": [
    "## Standard imports :"
   ]
  },
  {
   "cell_type": "code",
   "execution_count": 1,
   "metadata": {},
   "outputs": [],
   "source": [
    "import pandas as pd\n",
    "import numpy as np\n",
    "import os"
   ]
  },
  {
   "cell_type": "markdown",
   "metadata": {},
   "source": [
    "## Data Import :"
   ]
  },
  {
   "cell_type": "code",
   "execution_count": 2,
   "metadata": {},
   "outputs": [],
   "source": [
    "data_path = os.path.join(\"..\", \"data/student_enrollment.csv\")"
   ]
  },
  {
   "cell_type": "code",
   "execution_count": 18,
   "metadata": {},
   "outputs": [],
   "source": [
    "merged_data_path = os.path.join(\"..\", \"data/merged_data.csv\")"
   ]
  },
  {
   "cell_type": "code",
   "execution_count": 19,
   "metadata": {},
   "outputs": [],
   "source": [
    "df = pd.read_csv(merged_data_path, encoding=\"latin1\")"
   ]
  },
  {
   "cell_type": "code",
   "execution_count": 5,
   "metadata": {},
   "outputs": [
    {
     "data": {
      "text/html": [
       "<div>\n",
       "<style scoped>\n",
       "    .dataframe tbody tr th:only-of-type {\n",
       "        vertical-align: middle;\n",
       "    }\n",
       "\n",
       "    .dataframe tbody tr th {\n",
       "        vertical-align: top;\n",
       "    }\n",
       "\n",
       "    .dataframe thead th {\n",
       "        text-align: right;\n",
       "    }\n",
       "</style>\n",
       "<table border=\"1\" class=\"dataframe\">\n",
       "  <thead>\n",
       "    <tr style=\"text-align: right;\">\n",
       "      <th></th>\n",
       "      <th>College_id</th>\n",
       "      <th>College_name</th>\n",
       "      <th>survey_year</th>\n",
       "      <th>faculty_name</th>\n",
       "      <th>department_name</th>\n",
       "      <th>levell</th>\n",
       "      <th>programme_id</th>\n",
       "      <th>programme</th>\n",
       "      <th>discipline_group_id</th>\n",
       "      <th>discipline_group</th>\n",
       "      <th>...</th>\n",
       "      <th>other_minority_general_females</th>\n",
       "      <th>other_minority_sc_total</th>\n",
       "      <th>other_minority_sc_females</th>\n",
       "      <th>other_minority_st_total</th>\n",
       "      <th>other_minority_st_females</th>\n",
       "      <th>other_minority_obc_total</th>\n",
       "      <th>other_minority_obc_females</th>\n",
       "      <th>other_minority_total_persons</th>\n",
       "      <th>other_minority_total_females</th>\n",
       "      <th>other_minority_remarks_id</th>\n",
       "    </tr>\n",
       "  </thead>\n",
       "  <tbody>\n",
       "    <tr>\n",
       "      <th>0</th>\n",
       "      <td>15134</td>\n",
       "      <td>SMT. BHUDEVI MAHAVIDYALAYA SHASTRI PURAM, AGRA</td>\n",
       "      <td>2015</td>\n",
       "      <td>NaN</td>\n",
       "      <td>NaN</td>\n",
       "      <td>Under Graduate</td>\n",
       "      <td>30</td>\n",
       "      <td>B.Sc.-Bachelor of Science</td>\n",
       "      <td>171</td>\n",
       "      <td>Science</td>\n",
       "      <td>...</td>\n",
       "      <td>NaN</td>\n",
       "      <td>NaN</td>\n",
       "      <td>NaN</td>\n",
       "      <td>NaN</td>\n",
       "      <td>NaN</td>\n",
       "      <td>NaN</td>\n",
       "      <td>NaN</td>\n",
       "      <td>0.0</td>\n",
       "      <td>0.0</td>\n",
       "      <td>1.0</td>\n",
       "    </tr>\n",
       "    <tr>\n",
       "      <th>1</th>\n",
       "      <td>6133</td>\n",
       "      <td>Techno India 130</td>\n",
       "      <td>2015</td>\n",
       "      <td>NaN</td>\n",
       "      <td>NaN</td>\n",
       "      <td>Under Graduate</td>\n",
       "      <td>36</td>\n",
       "      <td>B.Tech.-Bachelor of Technology</td>\n",
       "      <td>26</td>\n",
       "      <td>Other Engineering &amp; Technology</td>\n",
       "      <td>...</td>\n",
       "      <td>0.0</td>\n",
       "      <td>0.0</td>\n",
       "      <td>0.0</td>\n",
       "      <td>0.0</td>\n",
       "      <td>0.0</td>\n",
       "      <td>0.0</td>\n",
       "      <td>0.0</td>\n",
       "      <td>0.0</td>\n",
       "      <td>0.0</td>\n",
       "      <td>NaN</td>\n",
       "    </tr>\n",
       "    <tr>\n",
       "      <th>2</th>\n",
       "      <td>47253</td>\n",
       "      <td>Shri D N Institute of Computer Applications, A...</td>\n",
       "      <td>2015</td>\n",
       "      <td>NaN</td>\n",
       "      <td>NaN</td>\n",
       "      <td>Under Graduate</td>\n",
       "      <td>46</td>\n",
       "      <td>B.C.A.-Bachelor of Computer Applications</td>\n",
       "      <td>183</td>\n",
       "      <td>Computer Application</td>\n",
       "      <td>...</td>\n",
       "      <td>0.0</td>\n",
       "      <td>0.0</td>\n",
       "      <td>0.0</td>\n",
       "      <td>0.0</td>\n",
       "      <td>0.0</td>\n",
       "      <td>0.0</td>\n",
       "      <td>0.0</td>\n",
       "      <td>0.0</td>\n",
       "      <td>0.0</td>\n",
       "      <td>NaN</td>\n",
       "    </tr>\n",
       "    <tr>\n",
       "      <th>3</th>\n",
       "      <td>6332</td>\n",
       "      <td>Techno India 309</td>\n",
       "      <td>2015</td>\n",
       "      <td>NaN</td>\n",
       "      <td>BHM</td>\n",
       "      <td>Under Graduate</td>\n",
       "      <td>54</td>\n",
       "      <td>B.H.M.-Bachelor of Hotel Management</td>\n",
       "      <td>57</td>\n",
       "      <td>Hotel Management</td>\n",
       "      <td>...</td>\n",
       "      <td>0.0</td>\n",
       "      <td>0.0</td>\n",
       "      <td>0.0</td>\n",
       "      <td>0.0</td>\n",
       "      <td>0.0</td>\n",
       "      <td>0.0</td>\n",
       "      <td>0.0</td>\n",
       "      <td>0.0</td>\n",
       "      <td>0.0</td>\n",
       "      <td>NaN</td>\n",
       "    </tr>\n",
       "    <tr>\n",
       "      <th>4</th>\n",
       "      <td>6065</td>\n",
       "      <td>Sigma Institute of Physiotherapy</td>\n",
       "      <td>2015</td>\n",
       "      <td>NaN</td>\n",
       "      <td>NaN</td>\n",
       "      <td>Under Graduate</td>\n",
       "      <td>70</td>\n",
       "      <td>B.P.T.-Bachelor of Physiotherapy</td>\n",
       "      <td>164</td>\n",
       "      <td>Physiotherapy</td>\n",
       "      <td>...</td>\n",
       "      <td>0.0</td>\n",
       "      <td>0.0</td>\n",
       "      <td>0.0</td>\n",
       "      <td>0.0</td>\n",
       "      <td>0.0</td>\n",
       "      <td>0.0</td>\n",
       "      <td>0.0</td>\n",
       "      <td>0.0</td>\n",
       "      <td>0.0</td>\n",
       "      <td>NaN</td>\n",
       "    </tr>\n",
       "  </tbody>\n",
       "</table>\n",
       "<p>5 rows × 58 columns</p>\n",
       "</div>"
      ],
      "text/plain": [
       "   College_id                                       College_name  survey_year  \\\n",
       "0       15134     SMT. BHUDEVI MAHAVIDYALAYA SHASTRI PURAM, AGRA         2015   \n",
       "1        6133                                   Techno India 130         2015   \n",
       "2       47253  Shri D N Institute of Computer Applications, A...         2015   \n",
       "3        6332                                   Techno India 309         2015   \n",
       "4        6065                   Sigma Institute of Physiotherapy         2015   \n",
       "\n",
       "   faculty_name department_name          levell  programme_id  \\\n",
       "0           NaN             NaN  Under Graduate            30   \n",
       "1           NaN             NaN  Under Graduate            36   \n",
       "2           NaN             NaN  Under Graduate            46   \n",
       "3           NaN             BHM  Under Graduate            54   \n",
       "4           NaN             NaN  Under Graduate            70   \n",
       "\n",
       "                                  programme  discipline_group_id  \\\n",
       "0                 B.Sc.-Bachelor of Science                  171   \n",
       "1            B.Tech.-Bachelor of Technology                   26   \n",
       "2  B.C.A.-Bachelor of Computer Applications                  183   \n",
       "3       B.H.M.-Bachelor of Hotel Management                   57   \n",
       "4          B.P.T.-Bachelor of Physiotherapy                  164   \n",
       "\n",
       "                 discipline_group  ... other_minority_general_females  \\\n",
       "0                         Science  ...                            NaN   \n",
       "1  Other Engineering & Technology  ...                            0.0   \n",
       "2            Computer Application  ...                            0.0   \n",
       "3                Hotel Management  ...                            0.0   \n",
       "4                   Physiotherapy  ...                            0.0   \n",
       "\n",
       "  other_minority_sc_total  other_minority_sc_females  other_minority_st_total  \\\n",
       "0                     NaN                        NaN                      NaN   \n",
       "1                     0.0                        0.0                      0.0   \n",
       "2                     0.0                        0.0                      0.0   \n",
       "3                     0.0                        0.0                      0.0   \n",
       "4                     0.0                        0.0                      0.0   \n",
       "\n",
       "   other_minority_st_females  other_minority_obc_total  \\\n",
       "0                        NaN                       NaN   \n",
       "1                        0.0                       0.0   \n",
       "2                        0.0                       0.0   \n",
       "3                        0.0                       0.0   \n",
       "4                        0.0                       0.0   \n",
       "\n",
       "   other_minority_obc_females  other_minority_total_persons  \\\n",
       "0                         NaN                           0.0   \n",
       "1                         0.0                           0.0   \n",
       "2                         0.0                           0.0   \n",
       "3                         0.0                           0.0   \n",
       "4                         0.0                           0.0   \n",
       "\n",
       "   other_minority_total_females  other_minority_remarks_id  \n",
       "0                           0.0                        1.0  \n",
       "1                           0.0                        NaN  \n",
       "2                           0.0                        NaN  \n",
       "3                           0.0                        NaN  \n",
       "4                           0.0                        NaN  \n",
       "\n",
       "[5 rows x 58 columns]"
      ]
     },
     "execution_count": 5,
     "metadata": {},
     "output_type": "execute_result"
    }
   ],
   "source": [
    "df.head()"
   ]
  },
  {
   "cell_type": "code",
   "execution_count": 8,
   "metadata": {},
   "outputs": [
    {
     "data": {
      "text/plain": [
       "64"
      ]
     },
     "execution_count": 8,
     "metadata": {},
     "output_type": "execute_result"
    }
   ],
   "source": [
    "len(df.columns)"
   ]
  },
  {
   "cell_type": "code",
   "execution_count": 9,
   "metadata": {},
   "outputs": [
    {
     "data": {
      "text/plain": [
       "439198"
      ]
     },
     "execution_count": 9,
     "metadata": {},
     "output_type": "execute_result"
    }
   ],
   "source": [
    "len(df)"
   ]
  },
  {
   "cell_type": "markdown",
   "metadata": {},
   "source": [
    "## Data Preprocessing :"
   ]
  },
  {
   "cell_type": "markdown",
   "metadata": {},
   "source": [
    "### Data cleaning  \n",
    "     \n",
    "   The techniques used in data cleaning are:\n",
    "   * Replacing missing values with 0\n",
    "   * Converting to same case to prevent duplicates with different case"
   ]
  },
  {
   "cell_type": "code",
   "execution_count": 10,
   "metadata": {
    "scrolled": true
   },
   "outputs": [
    {
     "data": {
      "text/plain": [
       "Unnamed: 0                  0\n",
       "id                          0\n",
       "college_name                0\n",
       "survey_year                 0\n",
       "faculty_name                0\n",
       "                           ..\n",
       "state                       0\n",
       "city                        0\n",
       "speciality                  0\n",
       "girl_exclusive              0\n",
       "student_hostel_available    0\n",
       "Length: 64, dtype: int64"
      ]
     },
     "execution_count": 10,
     "metadata": {},
     "output_type": "execute_result"
    }
   ],
   "source": [
    "df.isna().sum()"
   ]
  },
  {
   "cell_type": "code",
   "execution_count": 11,
   "metadata": {},
   "outputs": [],
   "source": [
    "df.fillna(0,inplace=True)"
   ]
  },
  {
   "cell_type": "code",
   "execution_count": 12,
   "metadata": {},
   "outputs": [],
   "source": [
    "df[\"discipline\"] = df[\"discipline\"].str.lower()"
   ]
  },
  {
   "cell_type": "code",
   "execution_count": 14,
   "metadata": {},
   "outputs": [],
   "source": [
    "df = df[df.total_total_persons != 0]\n",
    "df = df[df.college_name != 0]\n",
    "df = df[df.levell != 0]\n",
    "df = df[df.programme != 0]\n",
    "df = df[df.discipline != 0]\n",
    "df = df[df.discipline_group != 0]"
   ]
  },
  {
   "cell_type": "code",
   "execution_count": 15,
   "metadata": {},
   "outputs": [
    {
     "data": {
      "text/plain": [
       "375197"
      ]
     },
     "execution_count": 15,
     "metadata": {},
     "output_type": "execute_result"
    }
   ],
   "source": [
    "len(df)"
   ]
  },
  {
   "cell_type": "markdown",
   "metadata": {},
   "source": [
    "### Data Reduction\n",
    "\n",
    "Data reduction is brought about by using attribute selection.  \n",
    "The unecessary columns are removed from the full set of attributes"
   ]
  },
  {
   "cell_type": "raw",
   "metadata": {},
   "source": [
    "df.columns"
   ]
  },
  {
   "cell_type": "code",
   "execution_count": 23,
   "metadata": {},
   "outputs": [],
   "source": [
    "redundant_cols = [\"College_id\", \"survey_year\", \"faculty_name\", \"department_name\"]"
   ]
  },
  {
   "cell_type": "code",
   "execution_count": 24,
   "metadata": {},
   "outputs": [
    {
     "name": "stdout",
     "output_type": "stream",
     "text": [
      "id\n",
      "programme_id\n",
      "discipline_group_id\n",
      "final_id\n",
      "total_remarks_id\n",
      "pwd_remarks_id\n",
      "muslim_minority_remarks_id\n",
      "other_minority_remarks_id\n"
     ]
    }
   ],
   "source": [
    "for col in df.columns:\n",
    "    split_col = col.split(\"_\")\n",
    "    if \"remarks\" in split_col or \"id\" in split_col:\n",
    "        print(col)\n",
    "        redundant_cols.append(col)"
   ]
  },
  {
   "cell_type": "code",
   "execution_count": 25,
   "metadata": {},
   "outputs": [],
   "source": [
    "df.drop(columns=redundant_cols, axis=1, inplace=True)"
   ]
  },
  {
   "cell_type": "markdown",
   "metadata": {},
   "source": [
    "### Data transformation :\n",
    "\n",
    "The data transformation techniques used are:\n",
    "* Discretization\n",
    "* Normalization"
   ]
  },
  {
   "cell_type": "markdown",
   "metadata": {},
   "source": [
    "### Normalization :"
   ]
  },
  {
   "cell_type": "code",
   "execution_count": 37,
   "metadata": {},
   "outputs": [],
   "source": [
    "all_cols = df.columns.tolist()"
   ]
  },
  {
   "cell_type": "code",
   "execution_count": 41,
   "metadata": {},
   "outputs": [],
   "source": [
    "cols_to_remove = [\"college_name\", \"levell\", \"programme\", \"discipline\", \"discipline_group\",\n",
    "                  \"type\", \"year\", \"total_total_persons\", \"state\", \"city\", \"speciality\", \"student_hostel_available\",\n",
    "                  \"girl_exclusive\"\n",
    "             ]"
   ]
  },
  {
   "cell_type": "code",
   "execution_count": 42,
   "metadata": {},
   "outputs": [],
   "source": [
    "cols_to_normalize = [col for col in all_cols if col not in cols_to_remove]"
   ]
  },
  {
   "cell_type": "code",
   "execution_count": 43,
   "metadata": {},
   "outputs": [
    {
     "data": {
      "text/plain": [
       "['Unnamed: 0',\n",
       " 'total_general_total',\n",
       " 'total_general_females',\n",
       " 'total_sc_total',\n",
       " 'total_sc_females',\n",
       " 'total_st_total',\n",
       " 'total_st_females',\n",
       " 'total_obc_total',\n",
       " 'total_obc_females',\n",
       " 'total_total_females',\n",
       " 'pwd_general_total',\n",
       " 'pwd_general_females',\n",
       " 'pwd_sc_total',\n",
       " 'pwd_sc_females',\n",
       " 'pwd_st_total',\n",
       " 'pwd_st_females',\n",
       " 'pwd_obc_total',\n",
       " 'pwd_obc_females',\n",
       " 'pwd_total_persons',\n",
       " 'pwd_total_females',\n",
       " 'muslim_minority_general_total',\n",
       " 'muslim_minority_general_females',\n",
       " 'muslim_minority_sc_total',\n",
       " 'muslim_minority_sc_females',\n",
       " 'muslim_minority_st_total',\n",
       " 'muslim_minority_st_females',\n",
       " 'muslim_minority_obc_total',\n",
       " 'muslim_minority_obc_females',\n",
       " 'muslim_minority_total_persons',\n",
       " 'muslim_minority_total_females',\n",
       " 'other_minority_general_total',\n",
       " 'other_minority_general_females',\n",
       " 'other_minority_sc_total',\n",
       " 'other_minority_sc_females',\n",
       " 'other_minority_st_total',\n",
       " 'other_minority_st_females',\n",
       " 'other_minority_obc_total',\n",
       " 'other_minority_obc_females',\n",
       " 'other_minority_total_persons',\n",
       " 'other_minority_total_females']"
      ]
     },
     "execution_count": 43,
     "metadata": {},
     "output_type": "execute_result"
    }
   ],
   "source": [
    "cols_to_normalize"
   ]
  },
  {
   "cell_type": "code",
   "execution_count": 44,
   "metadata": {},
   "outputs": [
    {
     "name": "stdout",
     "output_type": "stream",
     "text": [
      "0\n"
     ]
    }
   ],
   "source": [
    "count = 0\n",
    "id_list = []\n",
    "for idx, i in enumerate(df[\"total_total_persons\"]):\n",
    "    if i == 0:\n",
    "        count += 1\n",
    "        id_list.append(idx)\n",
    "print(count)"
   ]
  },
  {
   "cell_type": "code",
   "execution_count": 45,
   "metadata": {},
   "outputs": [
    {
     "data": {
      "text/plain": [
       "[]"
      ]
     },
     "execution_count": 45,
     "metadata": {},
     "output_type": "execute_result"
    }
   ],
   "source": [
    "id_list"
   ]
  },
  {
   "cell_type": "code",
   "execution_count": 46,
   "metadata": {},
   "outputs": [],
   "source": [
    "totals = df[\"total_total_persons\"]\n",
    "for col in cols_to_normalize:\n",
    "    df[col] = df[col].divide(totals, axis=\"index\")"
   ]
  },
  {
   "cell_type": "code",
   "execution_count": 47,
   "metadata": {},
   "outputs": [
    {
     "data": {
      "text/plain": [
       "array(['Science', 'Other Engineering & Technology',\n",
       "       'Computer Application', 'Hotel Management', 'Physiotherapy',\n",
       "       'Information Technology', 'Electrical Engineering',\n",
       "       'Public Health', 'Anesthesiology', 'Mechanical Engineering',\n",
       "       'Cultural Studies', 'Arts', 'Commerce', 'Homeopathy', 'Pharmacy',\n",
       "       'Hindi', 'Geography', 'History', 'Nursing', 'Architecture',\n",
       "       'Business Administration', 'Zoology', 'Electronics Engineering',\n",
       "       'Law', 'Other Science', 'Computer Engineering', 'Economics',\n",
       "       'Area Studies', 'Physical Education', 'Sanskrit', 'Education',\n",
       "       'English', 'Oriental Learning', 'Agriculture Engineering',\n",
       "       'Political Science', 'Chemistry', 'Business Management',\n",
       "       'Bio-Technology', 'Visual Arts', 'Other Indian Languages',\n",
       "       'Chemical Engineering', 'Computer Science', 'Civil Engineering',\n",
       "       'Dentistry', 'Medical Science', 'Bengali', 'Fashion Technology',\n",
       "       'Women Studies', 'Botany', 'Philosophy', 'Physics', 'Odiya',\n",
       "       'Public Administration', 'General Medicine', 'Gynaecology',\n",
       "       'Home Science', 'Other Social Science', 'Environmental Science',\n",
       "       'Library & Information Science', 'Veterinary & Animal Sciences',\n",
       "       'Horticulture', 'Mathematics', 'Agriculture', 'Social Work',\n",
       "       'Statistics', 'Other Medical Science', 'Pediatrics', 'Forestry',\n",
       "       'Microbiology', 'Sociology', 'Fine Arts', 'Bio-Chemistry',\n",
       "       'Metallurgical Engineering', 'Mining Engineering',\n",
       "       'Journalism & Mass Communication', 'Electronics',\n",
       "       'Religious Studies', 'Geology', 'Life Science', 'Orthopaedics',\n",
       "       'Psychology', 'Music', 'Performing Arts', 'Ayurveda', 'Tamil',\n",
       "       'Yoga', 'Nuclear Medicine', 'Anthropology', 'Radiology',\n",
       "       'Dermatology', 'Other Management', 'Food Technology',\n",
       "       'Radiothrapy', 'Urdu', 'Kannada', 'ENT', 'Linguistics',\n",
       "       'Psychiatry', 'Punjabi', 'Christian Studies', 'Bio-Science',\n",
       "       'Ophthalmology', 'Other Foreign Languages', 'Physiology',\n",
       "       'Haematology', 'Pathology', 'Design', 'Aeronautical Engineering',\n",
       "       'General Surgery', 'Archaeology', 'Hospital Administration',\n",
       "       'Marine Engineering', 'Disability Studies', 'Defence Studies',\n",
       "       'Unani', 'Interior Design', 'Tourism Management', 'Telugu',\n",
       "       'Event Management', 'Urology', 'Occupational Therapy',\n",
       "       'Human Rights', 'Foreign Trade', 'Cardiology', 'Fisheries Science',\n",
       "       'Sericulture', 'Nephrology', 'Human Resource Management',\n",
       "       'Genetics', 'Animation', 'Medical Management',\n",
       "       'Marine Science / Oceanography', 'Nutrition',\n",
       "       'Financial Management', 'Lab Medicine', 'Geo-Physics', 'Jyotisha',\n",
       "       'French', 'Graphics', 'Anatomy', 'Malayalam',\n",
       "       'International Business', 'Oncology', 'Indian Medicine',\n",
       "       'Neurology', 'Dairy Technology', 'Gastroenterology',\n",
       "       'Forensic Medicine/ Toxicology', 'Constitutional Law',\n",
       "       'Marketing Management', 'Multi Media', 'Islamic Studies',\n",
       "       'Endocrinology', 'Civil Law', 'Business Studies',\n",
       "       'Agri-Business Management', 'Planning', 'Gandhian Studies',\n",
       "       'Social Science', 'Veda', 'Technology', 'Hepatology',\n",
       "       'Criminology & Forensic Science', 'German',\n",
       "       'Transportation Planning', 'Buddhist Studies', 'Dairy Science',\n",
       "       'Plastic Surgery', 'Medical Physics', 'Cyber Crime', 'Spanish',\n",
       "       'International Law', 'Theology', 'Bio-Statistics', 'Bio-Physics',\n",
       "       'Jainism'], dtype=object)"
      ]
     },
     "execution_count": 47,
     "metadata": {},
     "output_type": "execute_result"
    }
   ],
   "source": [
    "df[\"discipline_group\"].unique()"
   ]
  },
  {
   "cell_type": "markdown",
   "metadata": {},
   "source": [
    "### Aggregation :"
   ]
  },
  {
   "cell_type": "code",
   "execution_count": 48,
   "metadata": {},
   "outputs": [
    {
     "data": {
      "text/plain": [
       "Index(['Unnamed: 0', 'college_name', 'levell', 'programme', 'discipline_group',\n",
       "       'discipline', 'type', 'year', 'total_general_total',\n",
       "       'total_general_females', 'total_sc_total', 'total_sc_females',\n",
       "       'total_st_total', 'total_st_females', 'total_obc_total',\n",
       "       'total_obc_females', 'total_total_persons', 'total_total_females',\n",
       "       'pwd_general_total', 'pwd_general_females', 'pwd_sc_total',\n",
       "       'pwd_sc_females', 'pwd_st_total', 'pwd_st_females', 'pwd_obc_total',\n",
       "       'pwd_obc_females', 'pwd_total_persons', 'pwd_total_females',\n",
       "       'muslim_minority_general_total', 'muslim_minority_general_females',\n",
       "       'muslim_minority_sc_total', 'muslim_minority_sc_females',\n",
       "       'muslim_minority_st_total', 'muslim_minority_st_females',\n",
       "       'muslim_minority_obc_total', 'muslim_minority_obc_females',\n",
       "       'muslim_minority_total_persons', 'muslim_minority_total_females',\n",
       "       'other_minority_general_total', 'other_minority_general_females',\n",
       "       'other_minority_sc_total', 'other_minority_sc_females',\n",
       "       'other_minority_st_total', 'other_minority_st_females',\n",
       "       'other_minority_obc_total', 'other_minority_obc_females',\n",
       "       'other_minority_total_persons', 'other_minority_total_females', 'state',\n",
       "       'city', 'speciality', 'girl_exclusive', 'student_hostel_available'],\n",
       "      dtype='object')"
      ]
     },
     "execution_count": 48,
     "metadata": {},
     "output_type": "execute_result"
    }
   ],
   "source": [
    "df.columns"
   ]
  },
  {
   "cell_type": "markdown",
   "metadata": {},
   "source": [
    "#### grouping SC, ST and OBC into one feature :"
   ]
  },
  {
   "cell_type": "code",
   "execution_count": 49,
   "metadata": {},
   "outputs": [],
   "source": [
    "agg = []\n",
    "for col in df.columns:\n",
    "    split_col = col.split(\"_\")\n",
    "    if \"sc\" in split_col:\n",
    "        l = [col]\n",
    "        for st_col in df.columns:\n",
    "            if st_col.split(\"_\")[0] == split_col[0] and st_col.split(\"_\")[::-1][0] == split_col[::-1][0]:\n",
    "                if \"st\" in st_col.split(\"_\") or \"obc\" in st_col.split(\"_\"):\n",
    "                    l.append(st_col)\n",
    "        agg.append(l)"
   ]
  },
  {
   "cell_type": "code",
   "execution_count": 50,
   "metadata": {},
   "outputs": [
    {
     "data": {
      "text/plain": [
       "[['total_sc_total', 'total_st_total', 'total_obc_total'],\n",
       " ['total_sc_females', 'total_st_females', 'total_obc_females'],\n",
       " ['pwd_sc_total', 'pwd_st_total', 'pwd_obc_total'],\n",
       " ['pwd_sc_females', 'pwd_st_females', 'pwd_obc_females'],\n",
       " ['muslim_minority_sc_total',\n",
       "  'muslim_minority_st_total',\n",
       "  'muslim_minority_obc_total'],\n",
       " ['muslim_minority_sc_females',\n",
       "  'muslim_minority_st_females',\n",
       "  'muslim_minority_obc_females'],\n",
       " ['other_minority_sc_total',\n",
       "  'other_minority_st_total',\n",
       "  'other_minority_obc_total'],\n",
       " ['other_minority_sc_females',\n",
       "  'other_minority_st_females',\n",
       "  'other_minority_obc_females']]"
      ]
     },
     "execution_count": 50,
     "metadata": {},
     "output_type": "execute_result"
    }
   ],
   "source": [
    "agg"
   ]
  },
  {
   "cell_type": "code",
   "execution_count": 51,
   "metadata": {},
   "outputs": [],
   "source": [
    "for triple in agg:\n",
    "    df[triple[0]] = df[triple[0]] + df[triple[1]] + df[triple[2]]\n",
    "    df.drop(triple[1], axis=1, inplace=True)\n",
    "    df.drop(triple[2], axis=1, inplace=True)"
   ]
  },
  {
   "cell_type": "markdown",
   "metadata": {},
   "source": [
    "#### Renaming the columns from 'sc' to 'backward_castes' :"
   ]
  },
  {
   "cell_type": "code",
   "execution_count": 52,
   "metadata": {},
   "outputs": [],
   "source": [
    "cols = df.columns.tolist()\n",
    "for idx, col in enumerate(cols):\n",
    "    if \"sc\" in col.split(\"_\"):\n",
    "        cols[idx] = col.replace(\"_sc_\", \"_backward_castes_\")\n",
    "\n",
    "df.columns = cols"
   ]
  },
  {
   "cell_type": "code",
   "execution_count": 55,
   "metadata": {
    "scrolled": false
   },
   "outputs": [
    {
     "data": {
      "text/plain": [
       "Index(['college_name', 'levell', 'programme', 'discipline_group', 'discipline',\n",
       "       'type', 'year', 'total_general_total', 'total_general_females',\n",
       "       'total_backward_castes_total', 'total_backward_castes_females',\n",
       "       'total_total_persons', 'total_total_females', 'pwd_general_total',\n",
       "       'pwd_general_females', 'pwd_backward_castes_total',\n",
       "       'pwd_backward_castes_females', 'pwd_total_persons', 'pwd_total_females',\n",
       "       'muslim_minority_general_total', 'muslim_minority_general_females',\n",
       "       'muslim_minority_backward_castes_total',\n",
       "       'muslim_minority_backward_castes_females',\n",
       "       'muslim_minority_total_persons', 'muslim_minority_total_females',\n",
       "       'other_minority_general_total', 'other_minority_general_females',\n",
       "       'other_minority_backward_castes_total',\n",
       "       'other_minority_backward_castes_females',\n",
       "       'other_minority_total_persons', 'other_minority_total_females', 'state',\n",
       "       'city', 'speciality', 'girl_exclusive', 'student_hostel_available'],\n",
       "      dtype='object')"
      ]
     },
     "execution_count": 55,
     "metadata": {},
     "output_type": "execute_result"
    }
   ],
   "source": [
    "df.columns"
   ]
  },
  {
   "cell_type": "markdown",
   "metadata": {},
   "source": [
    "### Discretization :"
   ]
  },
  {
   "cell_type": "code",
   "execution_count": null,
   "metadata": {},
   "outputs": [],
   "source": [
    "def one_hot_enc(column_name, df):\n",
    "    d = pd.get_dummies(df[column_name])\n",
    "    df = pd.concat([d, df], axis=1)\n",
    "    df.drop(column_name, axis=1, inplace=True)\n",
    "    return df"
   ]
  },
  {
   "cell_type": "code",
   "execution_count": null,
   "metadata": {},
   "outputs": [],
   "source": [
    "df = one_hot_enc(\"levell\", df)"
   ]
  },
  {
   "cell_type": "markdown",
   "metadata": {},
   "source": [
    "### Saving the preprocessed data :"
   ]
  },
  {
   "cell_type": "code",
   "execution_count": 54,
   "metadata": {},
   "outputs": [],
   "source": [
    "df.drop(\"Unnamed: 0\", axis=1, inplace=True)"
   ]
  },
  {
   "cell_type": "code",
   "execution_count": 56,
   "metadata": {},
   "outputs": [],
   "source": [
    "save_path = os.path.join(\"../data/merged_preprocessed.csv\")\n",
    "df.to_csv(save_path, index=False)"
   ]
  },
  {
   "cell_type": "code",
   "execution_count": null,
   "metadata": {},
   "outputs": [],
   "source": []
  },
  {
   "cell_type": "code",
   "execution_count": null,
   "metadata": {},
   "outputs": [],
   "source": []
  },
  {
   "cell_type": "markdown",
   "metadata": {},
   "source": [
    "## Random exploration"
   ]
  },
  {
   "cell_type": "code",
   "execution_count": 20,
   "metadata": {},
   "outputs": [
    {
     "data": {
      "text/plain": [
       "Index(['Unnamed: 0', 'id', 'college_name', 'survey_year', 'faculty_name',\n",
       "       'department_name', 'levell', 'programme_id', 'programme',\n",
       "       'discipline_group_id', 'discipline_group', 'discipline', 'type', 'year',\n",
       "       'final_id', 'total_general_total', 'total_general_females',\n",
       "       'total_sc_total', 'total_sc_females', 'total_st_total',\n",
       "       'total_st_females', 'total_obc_total', 'total_obc_females',\n",
       "       'total_total_persons', 'total_total_females', 'total_remarks_id',\n",
       "       'pwd_general_total', 'pwd_general_females', 'pwd_sc_total',\n",
       "       'pwd_sc_females', 'pwd_st_total', 'pwd_st_females', 'pwd_obc_total',\n",
       "       'pwd_obc_females', 'pwd_total_persons', 'pwd_total_females',\n",
       "       'pwd_remarks_id', 'muslim_minority_general_total',\n",
       "       'muslim_minority_general_females', 'muslim_minority_sc_total',\n",
       "       'muslim_minority_sc_females', 'muslim_minority_st_total',\n",
       "       'muslim_minority_st_females', 'muslim_minority_obc_total',\n",
       "       'muslim_minority_obc_females', 'muslim_minority_total_persons',\n",
       "       'muslim_minority_total_females', 'muslim_minority_remarks_id',\n",
       "       'other_minority_general_total', 'other_minority_general_females',\n",
       "       'other_minority_sc_total', 'other_minority_sc_females',\n",
       "       'other_minority_st_total', 'other_minority_st_females',\n",
       "       'other_minority_obc_total', 'other_minority_obc_females',\n",
       "       'other_minority_total_persons', 'other_minority_total_females',\n",
       "       'other_minority_remarks_id', 'state', 'city', 'speciality',\n",
       "       'girl_exclusive', 'student_hostel_available'],\n",
       "      dtype='object')"
      ]
     },
     "execution_count": 20,
     "metadata": {},
     "output_type": "execute_result"
    }
   ],
   "source": [
    "df.columns"
   ]
  },
  {
   "cell_type": "code",
   "execution_count": 9,
   "metadata": {},
   "outputs": [
    {
     "data": {
      "text/plain": [
       "(35029, 178)"
      ]
     },
     "execution_count": 9,
     "metadata": {},
     "output_type": "execute_result"
    }
   ],
   "source": [
    "df[\"College_name\"].nunique(), df[\"programme\"].nunique() "
   ]
  },
  {
   "cell_type": "code",
   "execution_count": 21,
   "metadata": {},
   "outputs": [
    {
     "data": {
      "text/plain": [
       "array(['0', 'Engineering & Technology', 'Computer Application',\n",
       "       'Physiotherapy', 'Technical', 'Medical-Allopathy',\n",
       "       'Medical-Dental', 'Medical-Homeopathy', 'Pharmacy', 'Arts',\n",
       "       'Nursing', 'Architecture', 'Commerce', 'Management', 'Others',\n",
       "       'Science', 'Law', 'Agriculture', 'Education/Teacher Education',\n",
       "       'Sanskrit', 'Medical', 'Hotel & Tourism Management',\n",
       "       'Oriental Learning', 'Veterinary', 'Medical-Others',\n",
       "       'Medical-Ayurveda', 'Fine Arts', 'Para Medical',\n",
       "       'Journalism & Mass Communication',\n",
       "       'Sports/Yoga/Physical Education', 'Fisheries'], dtype=object)"
      ]
     },
     "execution_count": 21,
     "metadata": {},
     "output_type": "execute_result"
    }
   ],
   "source": [
    "df[\"speciality\"].unique()"
   ]
  },
  {
   "cell_type": "code",
   "execution_count": null,
   "metadata": {},
   "outputs": [],
   "source": []
  }
 ],
 "metadata": {
  "kernelspec": {
   "display_name": "Python 3",
   "language": "python",
   "name": "python3"
  },
  "language_info": {
   "codemirror_mode": {
    "name": "ipython",
    "version": 3
   },
   "file_extension": ".py",
   "mimetype": "text/x-python",
   "name": "python",
   "nbconvert_exporter": "python",
   "pygments_lexer": "ipython3",
   "version": "3.6.4"
  }
 },
 "nbformat": 4,
 "nbformat_minor": 2
}

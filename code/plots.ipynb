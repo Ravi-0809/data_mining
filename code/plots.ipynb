{
 "cells": [
  {
   "cell_type": "markdown",
   "metadata": {
    "colab_type": "text",
    "id": "7vXEDyuGOyvY"
   },
   "source": [
    "## **Preprocessing**"
   ]
  },
  {
   "cell_type": "code",
   "execution_count": null,
   "metadata": {
    "colab": {
     "base_uri": "https://localhost:8080/",
     "height": 71
    },
    "colab_type": "code",
    "id": "VCEYSTePz1Tm",
    "outputId": "3b1ba689-f62e-4ba1-89b6-32af3d390c76"
   },
   "outputs": [],
   "source": [
    "import pandas as pd\n",
    "import base64\n",
    "import numpy as np\n",
    "import pickle\n",
    "import os\n",
    "import matplotlib.pyplot as plt \n",
    "import seaborn as sns\n",
    "import sys\n",
    "\n",
    "from numpy import array"
   ]
  },
  {
   "cell_type": "code",
   "execution_count": null,
   "metadata": {},
   "outputs": [],
   "source": [
    "project_home = os.path.join(\"../\")\n",
    "sys.path.append(project_home)\n",
    "enc_path = os.path.join(project_home, \"data/final_enc_dataset.csv\")\n",
    "extra_path = os.path.join(project_home, \"data/basic_college_info.csv\")"
   ]
  },
  {
   "cell_type": "code",
   "execution_count": null,
   "metadata": {
    "colab": {},
    "colab_type": "code",
    "id": "LSPvHF76z4Sj"
   },
   "outputs": [],
   "source": [
    "final = pd.read_csv(enc_path, encoding='latin1')"
   ]
  },
  {
   "cell_type": "code",
   "execution_count": null,
   "metadata": {
    "colab": {},
    "colab_type": "code",
    "id": "dNqf1DTGz620"
   },
   "outputs": [],
   "source": [
    "extra = pd.read_csv(extra_path, encoding='latin1')"
   ]
  },
  {
   "cell_type": "markdown",
   "metadata": {},
   "source": [
    "## Dataset merging"
   ]
  },
  {
   "cell_type": "code",
   "execution_count": null,
   "metadata": {
    "colab": {},
    "colab_type": "code",
    "id": "s6M1W3FJ0NSC"
   },
   "outputs": [],
   "source": [
    "df1 = pd.DataFrame(extra)"
   ]
  },
  {
   "cell_type": "code",
   "execution_count": null,
   "metadata": {
    "colab": {},
    "colab_type": "code",
    "id": "YVgNubRB0Jm4"
   },
   "outputs": [],
   "source": [
    "df = pd.DataFrame(final)"
   ]
  },
  {
   "cell_type": "code",
   "execution_count": null,
   "metadata": {
    "colab": {},
    "colab_type": "code",
    "id": "cByYoeWY1WIr"
   },
   "outputs": [],
   "source": [
    "df = df.rename(columns={\"id\":\"final_id\"})\n"
   ]
  },
  {
   "cell_type": "code",
   "execution_count": null,
   "metadata": {
    "colab": {},
    "colab_type": "code",
    "id": "KMBlfikr1-N3"
   },
   "outputs": [],
   "source": [
    "df = df.rename(columns={\"College_id\":\"id\"})"
   ]
  },
  {
   "cell_type": "code",
   "execution_count": null,
   "metadata": {
    "colab": {},
    "colab_type": "code",
    "id": "XFIyxJNx0sbO"
   },
   "outputs": [],
   "source": [
    "Left_join = pd.merge(df,df1,on ='id',  how ='left') "
   ]
  },
  {
   "cell_type": "code",
   "execution_count": null,
   "metadata": {
    "colab": {
     "base_uri": "https://localhost:8080/",
     "height": 34
    },
    "colab_type": "code",
    "id": "FxzmsTj02U5C",
    "outputId": "77ad1295-8a67-451d-86d0-77105fc3e093"
   },
   "outputs": [],
   "source": [
    "Left_join.shape"
   ]
  },
  {
   "cell_type": "code",
   "execution_count": null,
   "metadata": {
    "colab": {},
    "colab_type": "code",
    "id": "FJKgn1fHjEsd"
   },
   "outputs": [],
   "source": [
    "Left_join = Left_join.fillna(0)"
   ]
  },
  {
   "cell_type": "code",
   "execution_count": null,
   "metadata": {
    "colab": {},
    "colab_type": "code",
    "id": "mbNWqf2Pjm4e"
   },
   "outputs": [],
   "source": [
    "df= Left_join"
   ]
  },
  {
   "cell_type": "code",
   "execution_count": null,
   "metadata": {
    "colab": {},
    "colab_type": "code",
    "id": "q-xIKyTDjtjj"
   },
   "outputs": [],
   "source": [
    "df.columns = map(str.lower, df.columns)"
   ]
  },
  {
   "cell_type": "markdown",
   "metadata": {
    "colab_type": "text",
    "id": "M0oGD4TDO79E"
   },
   "source": [
    "## **Plots**"
   ]
  },
  {
   "cell_type": "code",
   "execution_count": null,
   "metadata": {
    "colab": {
     "base_uri": "https://localhost:8080/",
     "height": 636
    },
    "colab_type": "code",
    "id": "5vzSQtGyKKbr",
    "outputId": "baaacfc7-104b-422a-a004-71df2720f424"
   },
   "outputs": [],
   "source": [
    "sns.lmplot('muslim_minority_total_females','other_minority_total_females',df,hue='speciality',size=8,fit_reg=False,aspect=1)"
   ]
  },
  {
   "cell_type": "code",
   "execution_count": null,
   "metadata": {
    "colab": {
     "base_uri": "https://localhost:8080/",
     "height": 636
    },
    "colab_type": "code",
    "id": "M1vMUawOw2LC",
    "outputId": "7ca25f7b-d14f-406c-8c77-4eac9e4ec4bc"
   },
   "outputs": [],
   "source": [
    "sns.lmplot('muslim_minority_total_persons','other_minority_total_persons',df,hue='type',size=8,fit_reg=False,aspect=1)"
   ]
  },
  {
   "cell_type": "code",
   "execution_count": null,
   "metadata": {
    "colab": {
     "base_uri": "https://localhost:8080/",
     "height": 636
    },
    "colab_type": "code",
    "id": "8GmZXVV80tP2",
    "outputId": "13c0280d-e2c2-47d3-98c1-b8e75d83ca9c"
   },
   "outputs": [],
   "source": [
    "sns.lmplot('total_general_total','muslim_minority_total_persons',df,hue='levell',size=8,fit_reg=False,aspect=1)"
   ]
  },
  {
   "cell_type": "code",
   "execution_count": null,
   "metadata": {
    "colab": {
     "base_uri": "https://localhost:8080/",
     "height": 636
    },
    "colab_type": "code",
    "id": "3zAgvIJZ2DxK",
    "outputId": "10e51ed9-3a9c-40a2-f8fd-963e074e7e75"
   },
   "outputs": [],
   "source": [
    "sns.lmplot('total_general_total','muslim_minority_total_persons',df,hue='year',size=8,fit_reg=False,aspect=1)"
   ]
  },
  {
   "cell_type": "code",
   "execution_count": null,
   "metadata": {
    "colab": {
     "base_uri": "https://localhost:8080/",
     "height": 297
    },
    "colab_type": "code",
    "id": "qeRJO9LeylCH",
    "outputId": "e8f7ef56-0ac2-42ba-d600-ef2af8a6aaad"
   },
   "outputs": [],
   "source": [
    "sns.scatterplot(x='total_general_total',y='muslim_minority_total_persons',data = df,hue='levell')"
   ]
  },
  {
   "cell_type": "code",
   "execution_count": null,
   "metadata": {
    "colab": {
     "base_uri": "https://localhost:8080/",
     "height": 636
    },
    "colab_type": "code",
    "id": "uqkNFhw-dGdc",
    "outputId": "78148f62-f756-4a7f-b50e-65f5ad33585d"
   },
   "outputs": [],
   "source": [
    "sns.lmplot('other_minority_total_females','muslim_minority_total_females',df,hue='girl_exclusive',size=8,fit_reg=False,aspect=1)"
   ]
  },
  {
   "cell_type": "code",
   "execution_count": null,
   "metadata": {
    "colab": {
     "base_uri": "https://localhost:8080/",
     "height": 636
    },
    "colab_type": "code",
    "id": "ZShtoxOseNSe",
    "outputId": "54eb5aab-62a1-427a-a33d-64d1c88e5dda"
   },
   "outputs": [],
   "source": [
    "sns.lmplot('total_males','total_total_females',df,hue='girl_exclusive',size=8,fit_reg=False,aspect=1)"
   ]
  },
  {
   "cell_type": "code",
   "execution_count": null,
   "metadata": {
    "colab": {
     "base_uri": "https://localhost:8080/",
     "height": 636
    },
    "colab_type": "code",
    "id": "nOw4_-_BfpTj",
    "outputId": "41de7295-90f9-492f-cfa7-d9de15bf99f2"
   },
   "outputs": [],
   "source": [
    "sns.lmplot('total_males','total_total_females',df,hue='speciality',size=8,fit_reg=False,aspect=1)"
   ]
  },
  {
   "cell_type": "code",
   "execution_count": null,
   "metadata": {
    "colab": {
     "base_uri": "https://localhost:8080/",
     "height": 636
    },
    "colab_type": "code",
    "id": "nM-WfBl2gLCo",
    "outputId": "fb91d6fe-30c7-487e-9b22-bcc65ffbab09"
   },
   "outputs": [],
   "source": [
    "sns.lmplot('total_general_total','total_deprived',df,hue='type',size=8,fit_reg=False,aspect=1)"
   ]
  },
  {
   "cell_type": "code",
   "execution_count": null,
   "metadata": {
    "colab": {
     "base_uri": "https://localhost:8080/",
     "height": 636
    },
    "colab_type": "code",
    "id": "Oq0wSmYh05Ef",
    "outputId": "851c1745-086c-481d-c082-5b51f0f210b7"
   },
   "outputs": [],
   "source": [
    "sns.lmplot('total_general_total','total_deprived',df,hue='year',size=8,fit_reg=False,aspect=1)"
   ]
  },
  {
   "cell_type": "code",
   "execution_count": null,
   "metadata": {
    "colab": {
     "base_uri": "https://localhost:8080/",
     "height": 636
    },
    "colab_type": "code",
    "id": "kB77NeqC2TN8",
    "outputId": "78bedb86-a7f5-44bb-9b46-af2ae8e90411"
   },
   "outputs": [],
   "source": [
    "sns.lmplot('total_general_total','total_deprived',df,hue='student_hostel_available',size=8,fit_reg=False,aspect=1)"
   ]
  },
  {
   "cell_type": "code",
   "execution_count": null,
   "metadata": {
    "colab": {},
    "colab_type": "code",
    "id": "IUBIdMPhfr1o"
   },
   "outputs": [],
   "source": [
    "df['total_deprived']=df['total_sc_total']+df['total_st_total']+df['total_obc_total']"
   ]
  },
  {
   "cell_type": "code",
   "execution_count": null,
   "metadata": {
    "colab": {},
    "colab_type": "code",
    "id": "o1rbS3ROfEo9"
   },
   "outputs": [],
   "source": [
    "df['total_males']=df['total_total_persons']-df['total_total_females']"
   ]
  },
  {
   "cell_type": "markdown",
   "metadata": {
    "colab_type": "text",
    "id": "Kfq6RdbRPXlx"
   },
   "source": [
    "## **Hyderabad Colleges**"
   ]
  },
  {
   "cell_type": "code",
   "execution_count": null,
   "metadata": {
    "colab": {},
    "colab_type": "code",
    "id": "RqlELnZpfUb0"
   },
   "outputs": [],
   "source": [
    "df_hyd = pd.DataFrame()\n",
    "column=['Hyderabad']\n",
    "for y in column:\n",
    "  df_hyd1 = df.loc[df['city'] == y]\n",
    "  df_hyd = df_hyd.append(df_hyd1)"
   ]
  },
  {
   "cell_type": "code",
   "execution_count": null,
   "metadata": {
    "colab": {
     "base_uri": "https://localhost:8080/",
     "height": 636
    },
    "colab_type": "code",
    "id": "yda6gs3Y6HbN",
    "outputId": "57cdbc04-dd79-42e4-ec18-4ec29988da9d"
   },
   "outputs": [],
   "source": [
    "sns.lmplot('total_general_total','total_deprived',df_hyd,hue='type',size=8,fit_reg=False,aspect=1)"
   ]
  },
  {
   "cell_type": "code",
   "execution_count": null,
   "metadata": {
    "colab": {
     "base_uri": "https://localhost:8080/",
     "height": 636
    },
    "colab_type": "code",
    "id": "YYRL7HYj6ZZs",
    "outputId": "d6471a68-ffe2-41f6-f866-4de5268f62d0"
   },
   "outputs": [],
   "source": [
    "sns.lmplot('total_general_total','total_deprived',df_hyd,hue='levell',size=8,fit_reg=False,aspect=1)"
   ]
  },
  {
   "cell_type": "code",
   "execution_count": null,
   "metadata": {
    "colab": {
     "base_uri": "https://localhost:8080/",
     "height": 636
    },
    "colab_type": "code",
    "id": "gC_wixpN6ddO",
    "outputId": "c13fa674-b600-458e-f497-a314a1ae928b"
   },
   "outputs": [],
   "source": [
    "sns.lmplot('total_general_total','total_deprived',df_hyd,hue='girl_exclusive',size=8,fit_reg=False,aspect=1)"
   ]
  },
  {
   "cell_type": "code",
   "execution_count": null,
   "metadata": {
    "colab": {
     "base_uri": "https://localhost:8080/",
     "height": 636
    },
    "colab_type": "code",
    "id": "FrGvsABM-YnN",
    "outputId": "fbe6e7a5-3e30-44a5-a66b-3e5f25bb9ee6"
   },
   "outputs": [],
   "source": [
    "sns.lmplot('other_minority_total_females','muslim_minority_total_females',df_hyd,hue='student_hostel_available',size=8,fit_reg=False,aspect=1)"
   ]
  },
  {
   "cell_type": "markdown",
   "metadata": {
    "colab_type": "text",
    "id": "9gayCRbzPIU1"
   },
   "source": [
    "## **Delhi Colleges**"
   ]
  },
  {
   "cell_type": "code",
   "execution_count": null,
   "metadata": {
    "colab": {},
    "colab_type": "code",
    "id": "JLc6ReSs6qCj"
   },
   "outputs": [],
   "source": [
    "df_del = pd.DataFrame()\n",
    "column=['Delhi']\n",
    "for y in column:\n",
    "  df_del1 = df.loc[df['city'] == y]\n",
    "  df_del = df_del.append(df_del1)"
   ]
  },
  {
   "cell_type": "code",
   "execution_count": null,
   "metadata": {
    "colab": {
     "base_uri": "https://localhost:8080/",
     "height": 636
    },
    "colab_type": "code",
    "id": "Nv62SxC66w4b",
    "outputId": "9e5a700f-a1b3-4c3f-efe6-b6636b352513"
   },
   "outputs": [],
   "source": [
    "sns.lmplot('total_general_total','total_deprived',df_del,hue='type',size=8,fit_reg=False,aspect=1)"
   ]
  },
  {
   "cell_type": "code",
   "execution_count": null,
   "metadata": {
    "colab": {
     "base_uri": "https://localhost:8080/",
     "height": 636
    },
    "colab_type": "code",
    "id": "SEPThAWW63AI",
    "outputId": "dc27f01a-3c57-4853-aa88-4d9acef2302a"
   },
   "outputs": [],
   "source": [
    "sns.lmplot('total_general_total','total_deprived',df_del,hue='levell',size=8,fit_reg=False,aspect=1)"
   ]
  },
  {
   "cell_type": "code",
   "execution_count": null,
   "metadata": {
    "colab": {
     "base_uri": "https://localhost:8080/",
     "height": 636
    },
    "colab_type": "code",
    "id": "d4ziDGdX7OO5",
    "outputId": "0ee73d17-b970-4108-d2b6-9a86bf50c432"
   },
   "outputs": [],
   "source": [
    "sns.lmplot('total_general_total','total_deprived',df_del,hue='girl_exclusive',size=8,fit_reg=False,aspect=1)"
   ]
  },
  {
   "cell_type": "code",
   "execution_count": null,
   "metadata": {
    "colab": {
     "base_uri": "https://localhost:8080/",
     "height": 636
    },
    "colab_type": "code",
    "id": "1WFvbwIY9Kfd",
    "outputId": "b00b1ec4-fbc0-44e7-90d6-6cb87149c4be"
   },
   "outputs": [],
   "source": [
    "sns.lmplot('total_general_total','total_deprived',df_del,hue='type',size=8,fit_reg=False,aspect=1)"
   ]
  },
  {
   "cell_type": "code",
   "execution_count": null,
   "metadata": {
    "colab": {
     "base_uri": "https://localhost:8080/",
     "height": 636
    },
    "colab_type": "code",
    "id": "9X7oUCH09PMi",
    "outputId": "ac817afc-70a5-4ea6-c295-8b3cb7e6f9db"
   },
   "outputs": [],
   "source": [
    "sns.lmplot('total_general_total','total_deprived',df_del,hue='student_hostel_available',size=8,fit_reg=False,aspect=1)"
   ]
  },
  {
   "cell_type": "code",
   "execution_count": null,
   "metadata": {
    "colab": {
     "base_uri": "https://localhost:8080/",
     "height": 636
    },
    "colab_type": "code",
    "id": "rwUByP8B8Egv",
    "outputId": "8071262e-b48e-42a4-ea58-5c48b271cc98"
   },
   "outputs": [],
   "source": [
    "sns.lmplot('total_general_total','total_deprived',df_del,hue='type',size=8,fit_reg=False,aspect=1)"
   ]
  },
  {
   "cell_type": "code",
   "execution_count": null,
   "metadata": {
    "colab": {
     "base_uri": "https://localhost:8080/",
     "height": 636
    },
    "colab_type": "code",
    "id": "9sq217Pu98mv",
    "outputId": "1deb9cc5-f787-4aa6-f712-d7f353b594d6"
   },
   "outputs": [],
   "source": [
    "sns.lmplot('muslim_minority_total_persons','muslim_minority_total_females',df_del,hue='type',size=8,fit_reg=False,aspect=1)"
   ]
  },
  {
   "cell_type": "markdown",
   "metadata": {
    "colab_type": "text",
    "id": "rS5BpAwmPP-Y"
   },
   "source": [
    "## **Uttar Pradesh Colleges**"
   ]
  },
  {
   "cell_type": "code",
   "execution_count": null,
   "metadata": {
    "colab": {},
    "colab_type": "code",
    "id": "EtXsqhzv7Tu2"
   },
   "outputs": [],
   "source": [
    "df_up = pd.DataFrame()\n",
    "column=['Uttar Pradesh']\n",
    "for y in column:\n",
    "  df_up1 = df.loc[df['state'] == y]\n",
    "  df_up = df_up.append(df_up1)"
   ]
  },
  {
   "cell_type": "code",
   "execution_count": null,
   "metadata": {
    "colab": {
     "base_uri": "https://localhost:8080/",
     "height": 636
    },
    "colab_type": "code",
    "id": "1mrG6Uy09Dii",
    "outputId": "86e091be-5273-4e81-9f0a-bee4fe40f46c"
   },
   "outputs": [],
   "source": [
    "sns.lmplot('total_general_total','total_deprived',df_up,hue='girl_exclusive',size=8,fit_reg=False,aspect=1)"
   ]
  },
  {
   "cell_type": "code",
   "execution_count": null,
   "metadata": {
    "colab": {
     "base_uri": "https://localhost:8080/",
     "height": 636
    },
    "colab_type": "code",
    "id": "mWg4PKdg-kcx",
    "outputId": "93abb36a-275b-408a-b529-8656d47d4212"
   },
   "outputs": [],
   "source": [
    "sns.lmplot('other_minority_total_persons','muslim_minority_total_females',df_up,hue='girl_exclusive',size=8,fit_reg=False,aspect=1)"
   ]
  },
  {
   "cell_type": "code",
   "execution_count": null,
   "metadata": {
    "colab": {
     "base_uri": "https://localhost:8080/",
     "height": 636
    },
    "colab_type": "code",
    "id": "cn7V7Lv_-5Ok",
    "outputId": "4f864486-5ea4-429f-9c4c-9fcf5fa0cf51"
   },
   "outputs": [],
   "source": [
    "sns.lmplot('other_minority_total_females','muslim_minority_total_females',df_up,hue='type',size=8,fit_reg=False,aspect=1)"
   ]
  },
  {
   "cell_type": "code",
   "execution_count": null,
   "metadata": {
    "colab": {},
    "colab_type": "code",
    "id": "54UsW4-rkEpY"
   },
   "outputs": [],
   "source": [
    "df1 = df[['total_general_total', 'total_general_females', 'total_sc_total',\n",
    "       'total_sc_females', 'total_st_total', 'total_st_females',\n",
    "       'total_obc_total', 'total_obc_females', 'total_total_persons',\n",
    "       'total_total_females', 'total_remarks_id', 'pwd_general_total',\n",
    "       'pwd_general_females', 'pwd_sc_total', 'pwd_sc_females', 'pwd_st_total',\n",
    "       'pwd_st_females', 'pwd_obc_total', 'pwd_obc_females',\n",
    "       'pwd_total_persons', 'pwd_total_females', 'pwd_remarks_id',\n",
    "       'muslim_minority_general_total', 'muslim_minority_general_females',\n",
    "       'muslim_minority_sc_total', 'muslim_minority_sc_females',\n",
    "       'muslim_minority_st_total', 'muslim_minority_st_females',\n",
    "       'muslim_minority_obc_total', 'muslim_minority_obc_females',\n",
    "       'muslim_minority_total_persons', 'muslim_minority_total_females',\n",
    "       'muslim_minority_remarks_id', 'other_minority_general_total',\n",
    "       'other_minority_general_females', 'other_minority_sc_total',\n",
    "       'other_minority_sc_females', 'other_minority_st_total',\n",
    "       'other_minority_st_females', 'other_minority_obc_total',\n",
    "       'other_minority_obc_females', 'other_minority_total_persons',\n",
    "       'other_minority_total_females', 'other_minority_remarks_id']]"
   ]
  },
  {
   "cell_type": "code",
   "execution_count": null,
   "metadata": {
    "colab": {},
    "colab_type": "code",
    "id": "h-G2cK3Mk9GN"
   },
   "outputs": [],
   "source": [
    "df1 =df1.loc[:,:] = df1.loc[:,:].div(df1['total_total_persons'], axis=0)"
   ]
  },
  {
   "cell_type": "code",
   "execution_count": null,
   "metadata": {
    "colab": {},
    "colab_type": "code",
    "id": "0WfJmZIfuFFe"
   },
   "outputs": [],
   "source": [
    "df.update(df1)"
   ]
  }
 ],
 "metadata": {
  "colab": {
   "collapsed_sections": [],
   "machine_shape": "hm",
   "name": "dmplots.ipynb",
   "provenance": []
  },
  "kernelspec": {
   "display_name": "Python 3",
   "language": "python",
   "name": "python3"
  },
  "language_info": {
   "codemirror_mode": {
    "name": "ipython",
    "version": 3
   },
   "file_extension": ".py",
   "mimetype": "text/x-python",
   "name": "python",
   "nbconvert_exporter": "python",
   "pygments_lexer": "ipython3",
   "version": "3.6.4"
  }
 },
 "nbformat": 4,
 "nbformat_minor": 1
}
